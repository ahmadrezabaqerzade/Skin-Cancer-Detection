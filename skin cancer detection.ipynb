{
 "cells": [
  {
   "cell_type": "code",
   "execution_count": 680,
   "metadata": {},
   "outputs": [],
   "source": [
    "import torch as tc \n",
    "from torch import optim, nn \n",
    "from torch.utils.data import DataLoader, TensorDataset, random_split \n",
    "\n",
    "import torchvision.transforms.functional as fn\n",
    "from torchvision import datasets\n",
    "from torchvision import transforms as T\n",
    "\n",
    "from torchmetrics import Accuracy\n",
    "\n",
    "import numpy as np \n",
    "import pandas as pd \n",
    "import matplotlib.pyplot as plt \n",
    "\n",
    "from sklearn.model_selection import train_test_split \n",
    "\n",
    "import cv2\n",
    "from PIL import Image\n",
    "\n",
    "from tqdm import tqdm "
   ]
  },
  {
   "cell_type": "code",
   "execution_count": 681,
   "metadata": {},
   "outputs": [],
   "source": [
    "transforms_train = T.Compose([T.ToTensor(), T.Resize(size = (128, 128)), T.Normalize(mean = [0.7437, 0.5865, 0.5869], std = [0.0816, 0.1087, 0.1215])])\n",
    "transforms_valid = T.Compose([T.ToTensor(), T.Resize(size = (128, 128)), T.Normalize(mean = [0.7437, 0.5865, 0.5869], std = [0.0816, 0.1087, 0.1215])])"
   ]
  },
  {
   "cell_type": "code",
   "execution_count": 682,
   "metadata": {},
   "outputs": [],
   "source": [
    "#train_dataset = datasets.ImageFolder('/home/ahmadrezabaqerzadeh/datasets/skin cancer detection using cnn/Skin cancer ISIC The International Skin Imaging Collaboration/Train', transform = transforms_train)\n",
    "data = datasets.ImageFolder('/home/ahmadrezabaqerzadeh/datasets/skin cancer detection using cnn/Skin cancer ISIC The International Skin Imaging Collaboration/Train', \n",
    "                            transform = T.Compose([T.ToTensor(),\n",
    "                                                   T.Resize(size = (64, 64))]))"
   ]
  },
  {
   "cell_type": "code",
   "execution_count": 683,
   "metadata": {},
   "outputs": [],
   "source": [
    "t, _ = random_split(data, (300, len(data)-300), generator = tc.Generator().manual_seed(42))"
   ]
  },
  {
   "cell_type": "code",
   "execution_count": 684,
   "metadata": {},
   "outputs": [],
   "source": [
    "#valid_dataset = datasets.ImageFolder('/home/ahmadrezabaqerzadeh/datasets/skin cancer detection using cnn/Skin cancer ISIC The International Skin Imaging Collaboration/Test', transform = transforms_valid)\n",
    "train_dataset, valid_dataset = random_split(t, (250, len(t)-250), generator = tc.Generator().manual_seed(42))"
   ]
  },
  {
   "cell_type": "code",
   "execution_count": 685,
   "metadata": {},
   "outputs": [
    {
     "data": {
      "text/plain": [
       "(250, 50)"
      ]
     },
     "execution_count": 685,
     "metadata": {},
     "output_type": "execute_result"
    }
   ],
   "source": [
    "len(train_dataset), len(valid_dataset)"
   ]
  },
  {
   "cell_type": "code",
   "execution_count": 686,
   "metadata": {},
   "outputs": [],
   "source": [
    "train_loader = DataLoader(train_dataset, batch_size = 64, shuffle = True)\n",
    "valid_loader = DataLoader(valid_dataset, batch_size = 50, shuffle = False)"
   ]
  },
  {
   "cell_type": "code",
   "execution_count": 687,
   "metadata": {},
   "outputs": [],
   "source": [
    "class CNNModel(nn.Module):\n",
    "    \n",
    "    def __init__(self, num_filters, kernel_size, num_classes):\n",
    "        super().__init__()\n",
    "        \n",
    "        self.conv1 = nn.LazyConv2d(num_filters, kernel_size, stride = 1, padding = 1, bias = True)\n",
    "        self.bn1 = nn.LazyBatchNorm2d()\n",
    "        \n",
    "        self.mpool1 = nn.MaxPool2d(2, 2)\n",
    "        \n",
    "        self.conv2 = nn.LazyConv2d(num_filters, kernel_size, stride = 1, padding = 1)\n",
    "        self.bn2 = nn.LazyBatchNorm2d()\n",
    "        \n",
    "        self.mpool2 = nn.MaxPool2d(2, 2)\n",
    "        \n",
    "        self.conv3 = nn.LazyConv2d(num_filters, kernel_size, stride = 1, padding = 1)\n",
    "        self.bn3 = nn.LazyBatchNorm2d()\n",
    "        \n",
    "        self.mpool3 = nn.MaxPool2d(2, 2)\n",
    "        \n",
    "        self.conv4 = nn.LazyConv2d(num_filters, kernel_size, stride = 1, padding = 1)\n",
    "        self.bn4 = nn.LazyBatchNorm2d()\n",
    "        \n",
    "        self.mpool4 = nn.MaxPool2d(2, 2)\n",
    "        \n",
    "        self.conv5 = nn.LazyConv2d(num_filters, kernel_size, stride = 1, padding = 1, bias = True)\n",
    "        self.bn5 = nn.LazyBatchNorm2d()\n",
    "        \n",
    "        self.mpool5 = nn.MaxPool2d(2, 2)\n",
    "        \n",
    "        self.conv6 = nn.LazyConv2d(num_filters, kernel_size, stride = 1, padding = 1, bias = True)\n",
    "        self.bn6 = nn.LazyBatchNorm2d()\n",
    "        \n",
    "        self.mpool6 = nn.MaxPool2d(2, 2)\n",
    "        \n",
    "        self.conv7 = nn.LazyConv2d(num_filters, kernel_size, stride = 1, padding = 1)\n",
    "        self.bn7 = nn.LazyBatchNorm2d()\n",
    "        \n",
    "        self.apool = nn.AdaptiveAvgPool2d(output_size = (1, 1))\n",
    "        \n",
    "        self.fc = nn.LazyLinear(num_classes)\n",
    "        \n",
    "        self.seq = nn.Sequential(nn.LazyLinear(128), nn.ReLU(), nn.LazyLinear(16), nn.ReLU(), nn.LazyLinear(num_classes))\n",
    "        \n",
    "    def forward(self, x):\n",
    "        \n",
    "        y = self.conv1(x)\n",
    "        y = self.bn1(y)\n",
    "        y = y.relu()\n",
    "        y = self.mpool1(y)\n",
    "        \n",
    "        y = self.conv2(y)\n",
    "        y = self.bn2(y)\n",
    "        y = y.relu()\n",
    "        y = self.mpool2(y)\n",
    "        \n",
    "        y = self.conv3(y)\n",
    "        y = self.bn3(y)\n",
    "        y = y.relu()\n",
    "        y = self.mpool3(y)\n",
    "        \n",
    "        y = self.conv4(y)\n",
    "        y = self.bn4(y)\n",
    "        y = y.relu()\n",
    "        y = self.mpool4(y)\n",
    "        \n",
    "        y = self.conv5(y)\n",
    "        y = self.bn5(y)\n",
    "        y = y.relu()\n",
    "        y = self.mpool5(y)\n",
    "        \n",
    "        y = self.conv6(y)\n",
    "        y = self.bn6(y)\n",
    "        y = y.relu()\n",
    "        y = self.mpool6(y)\n",
    "        \n",
    "        y = self.conv7(y)\n",
    "        y = self.bn7(y)\n",
    "        y = y.relu()\n",
    "        \n",
    "        #y = self.apool(y)\n",
    "        \n",
    "        y = y.flatten(1)\n",
    "        \n",
    "        y = self.fc(y)\n",
    "        \n",
    "        return y"
   ]
  },
  {
   "cell_type": "code",
   "execution_count": 688,
   "metadata": {},
   "outputs": [],
   "source": [
    "device = 'cuda' if tc.cuda.is_available() else 'cpu' "
   ]
  },
  {
   "cell_type": "code",
   "execution_count": 689,
   "metadata": {},
   "outputs": [],
   "source": [
    "class AverageMeter(object):\n",
    "    \"\"\"Computes and stores the average and current value\"\"\"\n",
    "    def __init__(self):\n",
    "        self.reset()\n",
    "\n",
    "    def reset(self):\n",
    "        self.val = 0\n",
    "        self.avg = 0\n",
    "        self.sum = 0\n",
    "        self.count = 0\n",
    "\n",
    "    def update(self, val, n=1):\n",
    "        self.val = val\n",
    "        self.sum += val * n\n",
    "        self.count += n\n",
    "        self.avg = self.sum / self.count"
   ]
  },
  {
   "cell_type": "code",
   "execution_count": 690,
   "metadata": {},
   "outputs": [],
   "source": [
    "def train_one_epoch(model, train_loader, loss_func, optimizer, epoch):\n",
    "    model.train()\n",
    "\n",
    "    train_loss=AverageMeter()\n",
    "    train_acc=Accuracy(task='multiclass', num_classes=9).to(device)\n",
    "\n",
    "    with tqdm(train_loader, unit='batch') as tepoch:\n",
    "        for x, y in tepoch:\n",
    "            if epoch is not None:\n",
    "                tepoch.set_description(f'Epoch={epoch}')\n",
    "\n",
    "            x=x.to(device)\n",
    "            y=y.to(device)\n",
    "\n",
    "            yp=model(x)\n",
    "            loss=loss_func(yp.squeeze(),  y)\n",
    "            loss.backward()\n",
    "            optimizer.step()\n",
    "            optimizer.zero_grad()\n",
    "\n",
    "            train_loss.update(loss.item())\n",
    "            train_acc(yp.squeeze(), y.int())\n",
    "\n",
    "            tepoch.set_postfix(loss=train_loss.avg, Accuracy=train_acc.compute().item() * 100)\n",
    "\n",
    "    return model, train_loss.avg, train_acc.compute().item()"
   ]
  },
  {
   "cell_type": "code",
   "execution_count": 691,
   "metadata": {},
   "outputs": [],
   "source": [
    "def validation(model, valid_loaedr, loss_func):\n",
    "    model.eval()\n",
    "\n",
    "    valid_loss=AverageMeter()\n",
    "    valid_acc=Accuracy(task='multiclass', num_classes=9).to(device)\n",
    "\n",
    "    for x, y in valid_loaedr:\n",
    "\n",
    "        x=x.to(device)\n",
    "        y=y.to(device)\n",
    "\n",
    "        yp=model(x)\n",
    "        loss=loss_func(yp.squeeze(), y)\n",
    "\n",
    "        valid_loss.update(loss.item())\n",
    "        valid_acc(yp.squeeze(), y)\n",
    "\n",
    "    print(f'valid loss={valid_loss.avg:.4}, accuracy={valid_acc.compute().item() * 100 :.4}')\n",
    "    print()\n",
    "\n",
    "    return valid_loss.avg, valid_acc.compute().item()"
   ]
  },
  {
   "cell_type": "code",
   "execution_count": 692,
   "metadata": {},
   "outputs": [],
   "source": [
    "mini_batch, _ = random_split(train_dataset, (10, len(train_dataset)-10))\n",
    "mini_loader = DataLoader(mini_batch, batch_size=10, shuffle=True)"
   ]
  },
  {
   "cell_type": "code",
   "execution_count": 693,
   "metadata": {},
   "outputs": [],
   "source": [
    "model = CNNModel(4, 3, 9).to(device)"
   ]
  },
  {
   "cell_type": "code",
   "execution_count": 694,
   "metadata": {},
   "outputs": [],
   "source": [
    "optimizer = optim.SGD(model.parameters(), lr = 0.01, momentum = 0.9, nesterov=True)\n",
    "loss_func = nn.CrossEntropyLoss()"
   ]
  },
  {
   "cell_type": "code",
   "execution_count": 695,
   "metadata": {},
   "outputs": [],
   "source": [
    "loss_train_hist, acc_train_hist = [], []\n",
    "loss_valid_hist, acc_valid_hist = [], []\n",
    "\n",
    "best_loss = tc.inf \n",
    "best_model = [0]"
   ]
  },
  {
   "cell_type": "code",
   "execution_count": 696,
   "metadata": {},
   "outputs": [
    {
     "name": "stderr",
     "output_type": "stream",
     "text": [
      "Epoch=0: 100%|██████████| 4/4 [00:03<00:00,  1.22batch/s, Accuracy=5.6, loss=2.35] \n"
     ]
    },
    {
     "name": "stdout",
     "output_type": "stream",
     "text": [
      "valid loss=2.297, accuracy=6.0\n",
      "\n",
      "model saved!\n"
     ]
    },
    {
     "name": "stderr",
     "output_type": "stream",
     "text": [
      "Epoch=1: 100%|██████████| 4/4 [00:03<00:00,  1.20batch/s, Accuracy=8, loss=2.29]  \n"
     ]
    },
    {
     "name": "stdout",
     "output_type": "stream",
     "text": [
      "valid loss=2.283, accuracy=6.0\n",
      "\n",
      "model saved!\n"
     ]
    },
    {
     "name": "stderr",
     "output_type": "stream",
     "text": [
      "Epoch=2: 100%|██████████| 4/4 [00:03<00:00,  1.27batch/s, Accuracy=10.8, loss=2.23]\n"
     ]
    },
    {
     "name": "stdout",
     "output_type": "stream",
     "text": [
      "valid loss=2.265, accuracy=6.0\n",
      "\n",
      "model saved!\n"
     ]
    },
    {
     "name": "stderr",
     "output_type": "stream",
     "text": [
      "Epoch=3: 100%|██████████| 4/4 [00:03<00:00,  1.23batch/s, Accuracy=11.2, loss=2.18]\n"
     ]
    },
    {
     "name": "stdout",
     "output_type": "stream",
     "text": [
      "valid loss=2.247, accuracy=6.0\n",
      "\n",
      "model saved!\n"
     ]
    },
    {
     "name": "stderr",
     "output_type": "stream",
     "text": [
      "Epoch=4: 100%|██████████| 4/4 [00:03<00:00,  1.26batch/s, Accuracy=13.2, loss=2.15]\n"
     ]
    },
    {
     "name": "stdout",
     "output_type": "stream",
     "text": [
      "valid loss=2.229, accuracy=6.0\n",
      "\n",
      "model saved!\n"
     ]
    },
    {
     "name": "stderr",
     "output_type": "stream",
     "text": [
      "Epoch=5: 100%|██████████| 4/4 [00:03<00:00,  1.24batch/s, Accuracy=14.8, loss=2.11]\n"
     ]
    },
    {
     "name": "stdout",
     "output_type": "stream",
     "text": [
      "valid loss=2.213, accuracy=20.0\n",
      "\n",
      "model saved!\n"
     ]
    },
    {
     "name": "stderr",
     "output_type": "stream",
     "text": [
      "Epoch=6: 100%|██████████| 4/4 [00:03<00:00,  1.27batch/s, Accuracy=22.4, loss=2.07]\n"
     ]
    },
    {
     "name": "stdout",
     "output_type": "stream",
     "text": [
      "valid loss=2.194, accuracy=20.0\n",
      "\n",
      "model saved!\n"
     ]
    },
    {
     "name": "stderr",
     "output_type": "stream",
     "text": [
      "Epoch=7: 100%|██████████| 4/4 [00:03<00:00,  1.28batch/s, Accuracy=23.6, loss=2.04]\n"
     ]
    },
    {
     "name": "stdout",
     "output_type": "stream",
     "text": [
      "valid loss=2.17, accuracy=20.0\n",
      "\n",
      "model saved!\n"
     ]
    },
    {
     "name": "stderr",
     "output_type": "stream",
     "text": [
      "Epoch=8: 100%|██████████| 4/4 [00:03<00:00,  1.23batch/s, Accuracy=26.8, loss=1.98]\n"
     ]
    },
    {
     "name": "stdout",
     "output_type": "stream",
     "text": [
      "valid loss=2.14, accuracy=20.0\n",
      "\n",
      "model saved!\n"
     ]
    },
    {
     "name": "stderr",
     "output_type": "stream",
     "text": [
      "Epoch=9: 100%|██████████| 4/4 [00:03<00:00,  1.27batch/s, Accuracy=27.6, loss=1.94]\n"
     ]
    },
    {
     "name": "stdout",
     "output_type": "stream",
     "text": [
      "valid loss=2.102, accuracy=20.0\n",
      "\n",
      "model saved!\n"
     ]
    },
    {
     "name": "stderr",
     "output_type": "stream",
     "text": [
      "Epoch=10: 100%|██████████| 4/4 [00:03<00:00,  1.25batch/s, Accuracy=32.8, loss=1.91]\n"
     ]
    },
    {
     "name": "stdout",
     "output_type": "stream",
     "text": [
      "valid loss=2.077, accuracy=10.0\n",
      "\n",
      "model saved!\n"
     ]
    },
    {
     "name": "stderr",
     "output_type": "stream",
     "text": [
      "Epoch=11: 100%|██████████| 4/4 [00:03<00:00,  1.26batch/s, Accuracy=32.4, loss=1.87]\n"
     ]
    },
    {
     "name": "stdout",
     "output_type": "stream",
     "text": [
      "valid loss=2.076, accuracy=16.0\n",
      "\n",
      "model saved!\n"
     ]
    },
    {
     "name": "stderr",
     "output_type": "stream",
     "text": [
      "Epoch=12: 100%|██████████| 4/4 [00:03<00:00,  1.26batch/s, Accuracy=32, loss=1.85]  \n"
     ]
    },
    {
     "name": "stdout",
     "output_type": "stream",
     "text": [
      "valid loss=2.12, accuracy=22.0\n",
      "\n"
     ]
    },
    {
     "name": "stderr",
     "output_type": "stream",
     "text": [
      "Epoch=13: 100%|██████████| 4/4 [00:03<00:00,  1.25batch/s, Accuracy=32, loss=1.85]  \n"
     ]
    },
    {
     "name": "stdout",
     "output_type": "stream",
     "text": [
      "valid loss=2.219, accuracy=20.0\n",
      "\n"
     ]
    },
    {
     "name": "stderr",
     "output_type": "stream",
     "text": [
      "Epoch=14: 100%|██████████| 4/4 [00:03<00:00,  1.29batch/s, Accuracy=31.2, loss=1.85]\n"
     ]
    },
    {
     "name": "stdout",
     "output_type": "stream",
     "text": [
      "valid loss=2.048, accuracy=18.0\n",
      "\n",
      "model saved!\n"
     ]
    },
    {
     "name": "stderr",
     "output_type": "stream",
     "text": [
      "Epoch=15: 100%|██████████| 4/4 [00:03<00:00,  1.26batch/s, Accuracy=32.4, loss=1.82]\n"
     ]
    },
    {
     "name": "stdout",
     "output_type": "stream",
     "text": [
      "valid loss=2.088, accuracy=22.0\n",
      "\n"
     ]
    },
    {
     "name": "stderr",
     "output_type": "stream",
     "text": [
      "Epoch=16: 100%|██████████| 4/4 [00:03<00:00,  1.25batch/s, Accuracy=34.4, loss=1.77]\n"
     ]
    },
    {
     "name": "stdout",
     "output_type": "stream",
     "text": [
      "valid loss=2.016, accuracy=30.0\n",
      "\n",
      "model saved!\n"
     ]
    },
    {
     "name": "stderr",
     "output_type": "stream",
     "text": [
      "Epoch=17: 100%|██████████| 4/4 [00:03<00:00,  1.27batch/s, Accuracy=34.4, loss=1.77]\n"
     ]
    },
    {
     "name": "stdout",
     "output_type": "stream",
     "text": [
      "valid loss=2.299, accuracy=24.0\n",
      "\n"
     ]
    },
    {
     "name": "stderr",
     "output_type": "stream",
     "text": [
      "Epoch=18: 100%|██████████| 4/4 [00:03<00:00,  1.29batch/s, Accuracy=34, loss=1.8]   \n"
     ]
    },
    {
     "name": "stdout",
     "output_type": "stream",
     "text": [
      "valid loss=2.748, accuracy=18.0\n",
      "\n"
     ]
    },
    {
     "name": "stderr",
     "output_type": "stream",
     "text": [
      "Epoch=19: 100%|██████████| 4/4 [00:03<00:00,  1.26batch/s, Accuracy=41.6, loss=1.74]\n"
     ]
    },
    {
     "name": "stdout",
     "output_type": "stream",
     "text": [
      "valid loss=1.922, accuracy=38.0\n",
      "\n",
      "model saved!\n"
     ]
    },
    {
     "name": "stderr",
     "output_type": "stream",
     "text": [
      "Epoch=20: 100%|██████████| 4/4 [00:03<00:00,  1.23batch/s, Accuracy=41.2, loss=1.71]\n"
     ]
    },
    {
     "name": "stdout",
     "output_type": "stream",
     "text": [
      "valid loss=2.007, accuracy=28.0\n",
      "\n"
     ]
    },
    {
     "name": "stderr",
     "output_type": "stream",
     "text": [
      "Epoch=21: 100%|██████████| 4/4 [00:03<00:00,  1.27batch/s, Accuracy=42.4, loss=1.64]\n"
     ]
    },
    {
     "name": "stdout",
     "output_type": "stream",
     "text": [
      "valid loss=2.003, accuracy=28.0\n",
      "\n"
     ]
    },
    {
     "name": "stderr",
     "output_type": "stream",
     "text": [
      "Epoch=22: 100%|██████████| 4/4 [00:03<00:00,  1.27batch/s, Accuracy=46, loss=1.6]   \n"
     ]
    },
    {
     "name": "stdout",
     "output_type": "stream",
     "text": [
      "valid loss=2.273, accuracy=30.0\n",
      "\n"
     ]
    },
    {
     "name": "stderr",
     "output_type": "stream",
     "text": [
      "Epoch=23: 100%|██████████| 4/4 [00:03<00:00,  1.25batch/s, Accuracy=45.6, loss=1.58]\n"
     ]
    },
    {
     "name": "stdout",
     "output_type": "stream",
     "text": [
      "valid loss=2.121, accuracy=24.0\n",
      "\n"
     ]
    },
    {
     "name": "stderr",
     "output_type": "stream",
     "text": [
      "Epoch=24: 100%|██████████| 4/4 [00:03<00:00,  1.31batch/s, Accuracy=45.6, loss=1.58]\n"
     ]
    },
    {
     "name": "stdout",
     "output_type": "stream",
     "text": [
      "valid loss=2.007, accuracy=26.0\n",
      "\n"
     ]
    },
    {
     "name": "stderr",
     "output_type": "stream",
     "text": [
      "Epoch=25: 100%|██████████| 4/4 [00:03<00:00,  1.27batch/s, Accuracy=46, loss=1.57]  \n"
     ]
    },
    {
     "name": "stdout",
     "output_type": "stream",
     "text": [
      "valid loss=2.008, accuracy=28.0\n",
      "\n"
     ]
    },
    {
     "name": "stderr",
     "output_type": "stream",
     "text": [
      "Epoch=26: 100%|██████████| 4/4 [00:03<00:00,  1.32batch/s, Accuracy=46, loss=1.53]  \n"
     ]
    },
    {
     "name": "stdout",
     "output_type": "stream",
     "text": [
      "valid loss=2.122, accuracy=22.0\n",
      "\n"
     ]
    },
    {
     "name": "stderr",
     "output_type": "stream",
     "text": [
      "Epoch=27: 100%|██████████| 4/4 [00:03<00:00,  1.29batch/s, Accuracy=47.2, loss=1.49]\n"
     ]
    },
    {
     "name": "stdout",
     "output_type": "stream",
     "text": [
      "valid loss=2.046, accuracy=30.0\n",
      "\n"
     ]
    },
    {
     "name": "stderr",
     "output_type": "stream",
     "text": [
      "Epoch=28: 100%|██████████| 4/4 [00:03<00:00,  1.33batch/s, Accuracy=45.6, loss=1.51]\n"
     ]
    },
    {
     "name": "stdout",
     "output_type": "stream",
     "text": [
      "valid loss=2.246, accuracy=28.0\n",
      "\n"
     ]
    },
    {
     "name": "stderr",
     "output_type": "stream",
     "text": [
      "Epoch=29: 100%|██████████| 4/4 [00:03<00:00,  1.25batch/s, Accuracy=48, loss=1.45]  \n"
     ]
    },
    {
     "name": "stdout",
     "output_type": "stream",
     "text": [
      "valid loss=2.343, accuracy=20.0\n",
      "\n"
     ]
    },
    {
     "name": "stderr",
     "output_type": "stream",
     "text": [
      "Epoch=30: 100%|██████████| 4/4 [00:03<00:00,  1.28batch/s, Accuracy=48.4, loss=1.42]\n"
     ]
    },
    {
     "name": "stdout",
     "output_type": "stream",
     "text": [
      "valid loss=2.111, accuracy=30.0\n",
      "\n"
     ]
    },
    {
     "name": "stderr",
     "output_type": "stream",
     "text": [
      "Epoch=31: 100%|██████████| 4/4 [00:03<00:00,  1.27batch/s, Accuracy=48.4, loss=1.43]\n"
     ]
    },
    {
     "name": "stdout",
     "output_type": "stream",
     "text": [
      "valid loss=2.293, accuracy=24.0\n",
      "\n"
     ]
    },
    {
     "name": "stderr",
     "output_type": "stream",
     "text": [
      "Epoch=32: 100%|██████████| 4/4 [00:03<00:00,  1.26batch/s, Accuracy=50.8, loss=1.39]\n"
     ]
    },
    {
     "name": "stdout",
     "output_type": "stream",
     "text": [
      "valid loss=2.238, accuracy=34.0\n",
      "\n"
     ]
    },
    {
     "name": "stderr",
     "output_type": "stream",
     "text": [
      "Epoch=33: 100%|██████████| 4/4 [00:03<00:00,  1.23batch/s, Accuracy=47.2, loss=1.37]\n"
     ]
    },
    {
     "name": "stdout",
     "output_type": "stream",
     "text": [
      "valid loss=2.817, accuracy=24.0\n",
      "\n"
     ]
    },
    {
     "name": "stderr",
     "output_type": "stream",
     "text": [
      "Epoch=34: 100%|██████████| 4/4 [00:03<00:00,  1.30batch/s, Accuracy=50.8, loss=1.37]\n"
     ]
    },
    {
     "name": "stdout",
     "output_type": "stream",
     "text": [
      "valid loss=2.2, accuracy=32.0\n",
      "\n"
     ]
    }
   ],
   "source": [
    "N = 35\n",
    "for i in range(N):\n",
    "\n",
    "  model, train_loss, train_acc = train_one_epoch(model, train_loader, loss_func, optimizer, i)\n",
    "  valid_loss, valid_acc = validation(model,valid_loader,loss_func)\n",
    "\n",
    "  acc_train_hist.append(train_acc)\n",
    "  loss_train_hist.append(train_loss)\n",
    "\n",
    "  acc_valid_hist.append(valid_acc)\n",
    "  loss_valid_hist.append(valid_loss)\n",
    "\n",
    "  if valid_loss<best_loss:\n",
    "    best_loss = valid_loss\n",
    "    best_model[0] = model\n",
    "    print('model saved!')"
   ]
  },
  {
   "cell_type": "code",
   "execution_count": 697,
   "metadata": {},
   "outputs": [
    {
     "data": {
      "image/png": "[encoded data removed]",
      "text/plain": [
       "<Figure size 640x480 with 1 Axes>"
      ]
     },
     "metadata": {},
     "output_type": "display_data"
    }
   ],
   "source": [
    "plt.plot(range(N), loss_train_hist, label = 'train loss')\n",
    "plt.plot(range(N), loss_valid_hist, label = 'valid loss')\n",
    "plt.xlabel('Epoch')\n",
    "plt.ylabel('Loss')\n",
    "plt.legend()\n",
    "plt.show()"
   ]
  },
  {
   "cell_type": "code",
   "execution_count": 698,
   "metadata": {},
   "outputs": [
    {
     "data": {
      "image/png": "[encoded data removed]",
      "text/plain": [
       "<Figure size 640x480 with 1 Axes>"
      ]
     },
     "metadata": {},
     "output_type": "display_data"
    }
   ],
   "source": [
    "plt.plot(range(N), acc_train_hist, label = 'train accurcay')\n",
    "plt.plot(range(N), acc_valid_hist, label = 'valid accuracy')\n",
    "plt.xlabel('Epoch')\n",
    "plt.ylabel('Accuracy')\n",
    "plt.legend()\n",
    "plt.show()"
   ]
  },
  {
   "cell_type": "code",
   "execution_count": 699,
   "metadata": {},
   "outputs": [],
   "source": [
    "transforms_train = T.Compose([T.ToTensor(),\n",
    "                              T.Resize(size = (64, 64)),\n",
    "                             T.RandomGrayscale(0.5)])"
   ]
  },
  {
   "cell_type": "code",
   "execution_count": 700,
   "metadata": {},
   "outputs": [],
   "source": [
    "data = datasets.ImageFolder('/home/ahmadrezabaqerzadeh/datasets/skin cancer detection using cnn/Skin cancer ISIC The International Skin Imaging Collaboration/Train', \n",
    "                            transform = transforms_train)"
   ]
  },
  {
   "cell_type": "code",
   "execution_count": 701,
   "metadata": {},
   "outputs": [],
   "source": [
    "t, _ = random_split(data, (200, len(data)-200), generator = tc.Generator().manual_seed(42))"
   ]
  },
  {
   "cell_type": "code",
   "execution_count": 702,
   "metadata": {},
   "outputs": [],
   "source": [
    "train_dataset, valid_dataset = random_split(t, (150, len(t)-150), generator = tc.Generator().manual_seed(42))"
   ]
  },
  {
   "cell_type": "code",
   "execution_count": 703,
   "metadata": {},
   "outputs": [],
   "source": [
    "train_loader = DataLoader(train_dataset, batch_size = 64, shuffle = True)\n",
    "valid_loader = DataLoader(valid_dataset, batch_size = 50, shuffle = False)"
   ]
  },
  {
   "cell_type": "code",
   "execution_count": 704,
   "metadata": {},
   "outputs": [],
   "source": [
    "optimizer = optim.Adam(model.parameters(), lr = 0.000000000000001)\n",
    "loss_func = nn.CrossEntropyLoss()"
   ]
  },
  {
   "cell_type": "code",
   "execution_count": 705,
   "metadata": {},
   "outputs": [],
   "source": [
    "loss_train_hist, acc_train_hist = [], []\n",
    "loss_valid_hist, acc_valid_hist = [], []"
   ]
  },
  {
   "cell_type": "code",
   "execution_count": 706,
   "metadata": {},
   "outputs": [
    {
     "name": "stderr",
     "output_type": "stream",
     "text": [
      "Epoch=0: 100%|██████████| 3/3 [00:02<00:00,  1.29batch/s, Accuracy=37.3, loss=1.89]\n"
     ]
    },
    {
     "name": "stdout",
     "output_type": "stream",
     "text": [
      "valid loss=2.106, accuracy=30.0\n",
      "\n"
     ]
    },
    {
     "name": "stderr",
     "output_type": "stream",
     "text": [
      "Epoch=1: 100%|██████████| 3/3 [00:02<00:00,  1.27batch/s, Accuracy=38.7, loss=1.73]\n"
     ]
    },
    {
     "name": "stdout",
     "output_type": "stream",
     "text": [
      "valid loss=1.961, accuracy=34.0\n",
      "\n"
     ]
    },
    {
     "name": "stderr",
     "output_type": "stream",
     "text": [
      "Epoch=2: 100%|██████████| 3/3 [00:02<00:00,  1.49batch/s, Accuracy=41.3, loss=1.86]\n"
     ]
    },
    {
     "name": "stdout",
     "output_type": "stream",
     "text": [
      "valid loss=1.925, accuracy=38.0\n",
      "\n"
     ]
    },
    {
     "name": "stderr",
     "output_type": "stream",
     "text": [
      "Epoch=3: 100%|██████████| 3/3 [00:02<00:00,  1.45batch/s, Accuracy=39.3, loss=1.7] \n"
     ]
    },
    {
     "name": "stdout",
     "output_type": "stream",
     "text": [
      "valid loss=1.746, accuracy=36.0\n",
      "\n",
      "model saved!\n"
     ]
    },
    {
     "name": "stderr",
     "output_type": "stream",
     "text": [
      "Epoch=4: 100%|██████████| 3/3 [00:02<00:00,  1.42batch/s, Accuracy=40, loss=1.71]  \n"
     ]
    },
    {
     "name": "stdout",
     "output_type": "stream",
     "text": [
      "valid loss=1.694, accuracy=42.0\n",
      "\n",
      "model saved!\n"
     ]
    },
    {
     "name": "stderr",
     "output_type": "stream",
     "text": [
      "Epoch=5: 100%|██████████| 3/3 [00:02<00:00,  1.43batch/s, Accuracy=40.7, loss=1.84]\n"
     ]
    },
    {
     "name": "stdout",
     "output_type": "stream",
     "text": [
      "valid loss=1.929, accuracy=34.0\n",
      "\n"
     ]
    },
    {
     "name": "stderr",
     "output_type": "stream",
     "text": [
      "Epoch=6: 100%|██████████| 3/3 [00:01<00:00,  1.51batch/s, Accuracy=40.7, loss=1.76]\n"
     ]
    },
    {
     "name": "stdout",
     "output_type": "stream",
     "text": [
      "valid loss=1.879, accuracy=36.0\n",
      "\n"
     ]
    },
    {
     "name": "stderr",
     "output_type": "stream",
     "text": [
      "Epoch=7: 100%|██████████| 3/3 [00:02<00:00,  1.47batch/s, Accuracy=38, loss=1.87]  \n"
     ]
    },
    {
     "name": "stdout",
     "output_type": "stream",
     "text": [
      "valid loss=1.928, accuracy=34.0\n",
      "\n"
     ]
    },
    {
     "name": "stderr",
     "output_type": "stream",
     "text": [
      "Epoch=8: 100%|██████████| 3/3 [00:01<00:00,  1.55batch/s, Accuracy=37.3, loss=1.68]\n"
     ]
    },
    {
     "name": "stdout",
     "output_type": "stream",
     "text": [
      "valid loss=1.875, accuracy=30.0\n",
      "\n"
     ]
    },
    {
     "name": "stderr",
     "output_type": "stream",
     "text": [
      "Epoch=9: 100%|██████████| 3/3 [00:02<00:00,  1.42batch/s, Accuracy=40.7, loss=1.74]\n"
     ]
    },
    {
     "name": "stdout",
     "output_type": "stream",
     "text": [
      "valid loss=1.751, accuracy=38.0\n",
      "\n"
     ]
    },
    {
     "name": "stderr",
     "output_type": "stream",
     "text": [
      "Epoch=10: 100%|██████████| 3/3 [00:02<00:00,  1.43batch/s, Accuracy=41.3, loss=1.84]\n"
     ]
    },
    {
     "name": "stdout",
     "output_type": "stream",
     "text": [
      "valid loss=1.751, accuracy=42.0\n",
      "\n"
     ]
    },
    {
     "name": "stderr",
     "output_type": "stream",
     "text": [
      "Epoch=11: 100%|██████████| 3/3 [00:02<00:00,  1.45batch/s, Accuracy=40, loss=1.76]  \n"
     ]
    },
    {
     "name": "stdout",
     "output_type": "stream",
     "text": [
      "valid loss=1.846, accuracy=38.0\n",
      "\n"
     ]
    },
    {
     "name": "stderr",
     "output_type": "stream",
     "text": [
      "Epoch=12: 100%|██████████| 3/3 [00:02<00:00,  1.47batch/s, Accuracy=36.7, loss=1.84]\n"
     ]
    },
    {
     "name": "stdout",
     "output_type": "stream",
     "text": [
      "valid loss=1.799, accuracy=34.0\n",
      "\n"
     ]
    },
    {
     "name": "stderr",
     "output_type": "stream",
     "text": [
      "Epoch=13: 100%|██████████| 3/3 [00:02<00:00,  1.49batch/s, Accuracy=37.3, loss=1.89]\n"
     ]
    },
    {
     "name": "stdout",
     "output_type": "stream",
     "text": [
      "valid loss=1.686, accuracy=34.0\n",
      "\n",
      "model saved!\n"
     ]
    },
    {
     "name": "stderr",
     "output_type": "stream",
     "text": [
      "Epoch=14: 100%|██████████| 3/3 [00:02<00:00,  1.49batch/s, Accuracy=40.7, loss=1.78]\n"
     ]
    },
    {
     "name": "stdout",
     "output_type": "stream",
     "text": [
      "valid loss=1.867, accuracy=34.0\n",
      "\n"
     ]
    },
    {
     "name": "stderr",
     "output_type": "stream",
     "text": [
      "Epoch=15: 100%|██████████| 3/3 [00:02<00:00,  1.43batch/s, Accuracy=36, loss=1.82]  \n"
     ]
    },
    {
     "name": "stdout",
     "output_type": "stream",
     "text": [
      "valid loss=1.786, accuracy=40.0\n",
      "\n"
     ]
    },
    {
     "name": "stderr",
     "output_type": "stream",
     "text": [
      "Epoch=16: 100%|██████████| 3/3 [00:02<00:00,  1.44batch/s, Accuracy=39.3, loss=1.65]\n"
     ]
    },
    {
     "name": "stdout",
     "output_type": "stream",
     "text": [
      "valid loss=1.77, accuracy=42.0\n",
      "\n"
     ]
    },
    {
     "name": "stderr",
     "output_type": "stream",
     "text": [
      "Epoch=17: 100%|██████████| 3/3 [00:02<00:00,  1.43batch/s, Accuracy=37.3, loss=1.84]\n"
     ]
    },
    {
     "name": "stdout",
     "output_type": "stream",
     "text": [
      "valid loss=1.854, accuracy=38.0\n",
      "\n"
     ]
    },
    {
     "name": "stderr",
     "output_type": "stream",
     "text": [
      "Epoch=18: 100%|██████████| 3/3 [00:01<00:00,  1.51batch/s, Accuracy=37.3, loss=1.84]\n"
     ]
    },
    {
     "name": "stdout",
     "output_type": "stream",
     "text": [
      "valid loss=1.781, accuracy=38.0\n",
      "\n"
     ]
    },
    {
     "name": "stderr",
     "output_type": "stream",
     "text": [
      "Epoch=19: 100%|██████████| 3/3 [00:02<00:00,  1.48batch/s, Accuracy=36.7, loss=1.86]\n"
     ]
    },
    {
     "name": "stdout",
     "output_type": "stream",
     "text": [
      "valid loss=1.941, accuracy=32.0\n",
      "\n"
     ]
    },
    {
     "name": "stderr",
     "output_type": "stream",
     "text": [
      "Epoch=20: 100%|██████████| 3/3 [00:02<00:00,  1.31batch/s, Accuracy=41.3, loss=1.63]\n"
     ]
    },
    {
     "name": "stdout",
     "output_type": "stream",
     "text": [
      "valid loss=1.892, accuracy=34.0\n",
      "\n"
     ]
    },
    {
     "name": "stderr",
     "output_type": "stream",
     "text": [
      "Epoch=21: 100%|██████████| 3/3 [00:02<00:00,  1.32batch/s, Accuracy=37.3, loss=1.85]\n"
     ]
    },
    {
     "name": "stdout",
     "output_type": "stream",
     "text": [
      "valid loss=1.733, accuracy=42.0\n",
      "\n"
     ]
    },
    {
     "name": "stderr",
     "output_type": "stream",
     "text": [
      "Epoch=22: 100%|██████████| 3/3 [00:02<00:00,  1.33batch/s, Accuracy=36.7, loss=1.7] \n"
     ]
    },
    {
     "name": "stdout",
     "output_type": "stream",
     "text": [
      "valid loss=1.935, accuracy=38.0\n",
      "\n"
     ]
    },
    {
     "name": "stderr",
     "output_type": "stream",
     "text": [
      "Epoch=23: 100%|██████████| 3/3 [00:02<00:00,  1.36batch/s, Accuracy=37.3, loss=1.78]\n"
     ]
    },
    {
     "name": "stdout",
     "output_type": "stream",
     "text": [
      "valid loss=1.883, accuracy=34.0\n",
      "\n"
     ]
    },
    {
     "name": "stderr",
     "output_type": "stream",
     "text": [
      "Epoch=24: 100%|██████████| 3/3 [00:02<00:00,  1.36batch/s, Accuracy=38.7, loss=1.75]\n"
     ]
    },
    {
     "name": "stdout",
     "output_type": "stream",
     "text": [
      "valid loss=1.839, accuracy=32.0\n",
      "\n"
     ]
    }
   ],
   "source": [
    "N = 25\n",
    "for i in range(N):\n",
    "\n",
    "  model, train_loss, train_acc = train_one_epoch(model, train_loader, loss_func, optimizer, i)\n",
    "  valid_loss, valid_acc = validation(model,valid_loader,loss_func)\n",
    "\n",
    "  acc_train_hist.append(train_acc)\n",
    "  loss_train_hist.append(train_loss)\n",
    "\n",
    "  acc_valid_hist.append(valid_acc)\n",
    "  loss_valid_hist.append(valid_loss)\n",
    "\n",
    "  if valid_loss<best_loss:\n",
    "    best_loss = valid_loss\n",
    "    best_model[0] = model\n",
    "    print('model saved!')"
   ]
  },
  {
   "cell_type": "code",
   "execution_count": 707,
   "metadata": {},
   "outputs": [
    {
     "data": {
      "image/png": "[encoded data removed]",
      "text/plain": [
       "<Figure size 640x480 with 1 Axes>"
      ]
     },
     "metadata": {},
     "output_type": "display_data"
    }
   ],
   "source": [
    "plt.plot(range(N), loss_train_hist, label = 'train loss')\n",
    "plt.plot(range(N), loss_valid_hist, label = 'valid loss')\n",
    "plt.xlabel('Epoch')\n",
    "plt.ylabel('Loss')\n",
    "plt.legend()\n",
    "plt.show()"
   ]
  },
  {
   "cell_type": "code",
   "execution_count": null,
   "metadata": {},
   "outputs": [],
   "source": []
  }
 ],
 "metadata": {
  "kernelspec": {
   "display_name": "Python 3",
   "language": "python",
   "name": "python3"
  },
  "language_info": {
   "codemirror_mode": {
    "name": "ipython",
    "version": 3
   },
   "file_extension": ".py",
   "mimetype": "text/x-python",
   "name": "python",
   "nbconvert_exporter": "python",
   "pygments_lexer": "ipython3",
   "version": "3.10.9"
  },
  "orig_nbformat": 4,
  "vscode": {
   "interpreter": {
    "hash": "e7370f93d1d0cde622a1f8e1c04877d8463912d04d973331ad4851f04de6915a"
   }
  }
 },
 "nbformat": 4,
 "nbformat_minor": 2
}
